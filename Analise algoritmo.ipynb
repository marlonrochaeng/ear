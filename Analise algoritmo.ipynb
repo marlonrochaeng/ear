{
 "cells": [
  {
   "cell_type": "code",
   "execution_count": 1,
   "metadata": {},
   "outputs": [],
   "source": [
    "import pandas as pd\n",
    "import glob"
   ]
  },
  {
   "cell_type": "code",
   "execution_count": 2,
   "metadata": {},
   "outputs": [],
   "source": [
    "df = pd.concat([pd.read_csv(f) for f in glob.glob('csv_512_16/*.csv')], ignore_index = True)"
   ]
  },
  {
   "cell_type": "code",
   "execution_count": 3,
   "metadata": {},
   "outputs": [
    {
     "data": {
      "text/html": [
       "<div>\n",
       "<style scoped>\n",
       "    .dataframe tbody tr th:only-of-type {\n",
       "        vertical-align: middle;\n",
       "    }\n",
       "\n",
       "    .dataframe tbody tr th {\n",
       "        vertical-align: top;\n",
       "    }\n",
       "\n",
       "    .dataframe thead th {\n",
       "        text-align: right;\n",
       "    }\n",
       "</style>\n",
       "<table border=\"1\" class=\"dataframe\">\n",
       "  <thead>\n",
       "    <tr style=\"text-align: right;\">\n",
       "      <th></th>\n",
       "      <th>FILE_NAME</th>\n",
       "      <th>NUM_JOBS</th>\n",
       "      <th>NUM_MACHINES</th>\n",
       "      <th>ITERATION_SIZE</th>\n",
       "      <th>POPULATION_SIZE</th>\n",
       "      <th>ITERATION</th>\n",
       "      <th>MAKESPAN</th>\n",
       "    </tr>\n",
       "  </thead>\n",
       "  <tbody>\n",
       "    <tr>\n",
       "      <th>0</th>\n",
       "      <td>u_c_hihi.0</td>\n",
       "      <td>512</td>\n",
       "      <td>16</td>\n",
       "      <td>100</td>\n",
       "      <td>100</td>\n",
       "      <td>1</td>\n",
       "      <td>126730426.5</td>\n",
       "    </tr>\n",
       "    <tr>\n",
       "      <th>1</th>\n",
       "      <td>u_c_hihi.0</td>\n",
       "      <td>512</td>\n",
       "      <td>16</td>\n",
       "      <td>100</td>\n",
       "      <td>100</td>\n",
       "      <td>2</td>\n",
       "      <td>[121461406.0]</td>\n",
       "    </tr>\n",
       "    <tr>\n",
       "      <th>2</th>\n",
       "      <td>u_c_hihi.0</td>\n",
       "      <td>512</td>\n",
       "      <td>16</td>\n",
       "      <td>100</td>\n",
       "      <td>100</td>\n",
       "      <td>3</td>\n",
       "      <td>[107658973.5]</td>\n",
       "    </tr>\n",
       "    <tr>\n",
       "      <th>3</th>\n",
       "      <td>u_c_hihi.0</td>\n",
       "      <td>512</td>\n",
       "      <td>16</td>\n",
       "      <td>100</td>\n",
       "      <td>100</td>\n",
       "      <td>4</td>\n",
       "      <td>[115321173.75]</td>\n",
       "    </tr>\n",
       "    <tr>\n",
       "      <th>4</th>\n",
       "      <td>u_c_hihi.0</td>\n",
       "      <td>512</td>\n",
       "      <td>16</td>\n",
       "      <td>100</td>\n",
       "      <td>100</td>\n",
       "      <td>5</td>\n",
       "      <td>[118700919.5]</td>\n",
       "    </tr>\n",
       "  </tbody>\n",
       "</table>\n",
       "</div>"
      ],
      "text/plain": [
       "    FILE_NAME  NUM_JOBS  NUM_MACHINES  ITERATION_SIZE  POPULATION_SIZE  \\\n",
       "0  u_c_hihi.0       512            16             100              100   \n",
       "1  u_c_hihi.0       512            16             100              100   \n",
       "2  u_c_hihi.0       512            16             100              100   \n",
       "3  u_c_hihi.0       512            16             100              100   \n",
       "4  u_c_hihi.0       512            16             100              100   \n",
       "\n",
       "   ITERATION        MAKESPAN  \n",
       "0          1     126730426.5  \n",
       "1          2   [121461406.0]  \n",
       "2          3   [107658973.5]  \n",
       "3          4  [115321173.75]  \n",
       "4          5   [118700919.5]  "
      ]
     },
     "execution_count": 3,
     "metadata": {},
     "output_type": "execute_result"
    }
   ],
   "source": [
    "df.head()"
   ]
  },
  {
   "cell_type": "code",
   "execution_count": 4,
   "metadata": {
    "scrolled": true
   },
   "outputs": [
    {
     "data": {
      "text/html": [
       "<div>\n",
       "<style scoped>\n",
       "    .dataframe tbody tr th:only-of-type {\n",
       "        vertical-align: middle;\n",
       "    }\n",
       "\n",
       "    .dataframe tbody tr th {\n",
       "        vertical-align: top;\n",
       "    }\n",
       "\n",
       "    .dataframe thead th {\n",
       "        text-align: right;\n",
       "    }\n",
       "</style>\n",
       "<table border=\"1\" class=\"dataframe\">\n",
       "  <thead>\n",
       "    <tr style=\"text-align: right;\">\n",
       "      <th></th>\n",
       "      <th>FILE_NAME</th>\n",
       "      <th>NUM_JOBS</th>\n",
       "      <th>NUM_MACHINES</th>\n",
       "      <th>ITERATION_SIZE</th>\n",
       "      <th>POPULATION_SIZE</th>\n",
       "      <th>ITERATION</th>\n",
       "      <th>MAKESPAN</th>\n",
       "    </tr>\n",
       "  </thead>\n",
       "  <tbody>\n",
       "    <tr>\n",
       "      <th>0</th>\n",
       "      <td>u_c_hihi.0</td>\n",
       "      <td>512</td>\n",
       "      <td>16</td>\n",
       "      <td>100</td>\n",
       "      <td>100</td>\n",
       "      <td>1</td>\n",
       "      <td>1.267304e+08</td>\n",
       "    </tr>\n",
       "    <tr>\n",
       "      <th>1</th>\n",
       "      <td>u_c_hihi.0</td>\n",
       "      <td>512</td>\n",
       "      <td>16</td>\n",
       "      <td>100</td>\n",
       "      <td>100</td>\n",
       "      <td>2</td>\n",
       "      <td>1.214614e+08</td>\n",
       "    </tr>\n",
       "    <tr>\n",
       "      <th>2</th>\n",
       "      <td>u_c_hihi.0</td>\n",
       "      <td>512</td>\n",
       "      <td>16</td>\n",
       "      <td>100</td>\n",
       "      <td>100</td>\n",
       "      <td>3</td>\n",
       "      <td>1.076590e+08</td>\n",
       "    </tr>\n",
       "    <tr>\n",
       "      <th>3</th>\n",
       "      <td>u_c_hihi.0</td>\n",
       "      <td>512</td>\n",
       "      <td>16</td>\n",
       "      <td>100</td>\n",
       "      <td>100</td>\n",
       "      <td>4</td>\n",
       "      <td>1.153212e+08</td>\n",
       "    </tr>\n",
       "    <tr>\n",
       "      <th>4</th>\n",
       "      <td>u_c_hihi.0</td>\n",
       "      <td>512</td>\n",
       "      <td>16</td>\n",
       "      <td>100</td>\n",
       "      <td>100</td>\n",
       "      <td>5</td>\n",
       "      <td>1.187009e+08</td>\n",
       "    </tr>\n",
       "  </tbody>\n",
       "</table>\n",
       "</div>"
      ],
      "text/plain": [
       "    FILE_NAME  NUM_JOBS  NUM_MACHINES  ITERATION_SIZE  POPULATION_SIZE  \\\n",
       "0  u_c_hihi.0       512            16             100              100   \n",
       "1  u_c_hihi.0       512            16             100              100   \n",
       "2  u_c_hihi.0       512            16             100              100   \n",
       "3  u_c_hihi.0       512            16             100              100   \n",
       "4  u_c_hihi.0       512            16             100              100   \n",
       "\n",
       "   ITERATION      MAKESPAN  \n",
       "0          1  1.267304e+08  \n",
       "1          2  1.214614e+08  \n",
       "2          3  1.076590e+08  \n",
       "3          4  1.153212e+08  \n",
       "4          5  1.187009e+08  "
      ]
     },
     "execution_count": 4,
     "metadata": {},
     "output_type": "execute_result"
    }
   ],
   "source": [
    "#conertendo de str para double\n",
    "df['MAKESPAN'] = df['MAKESPAN'].apply(lambda x: float(x.replace('[','').replace(']','')) if isinstance(x, str) else x)\n",
    "df.head()"
   ]
  },
  {
   "cell_type": "code",
   "execution_count": 5,
   "metadata": {},
   "outputs": [
    {
     "data": {
      "text/plain": [
       "array(['u_c_hihi.0', 'u_c_hilo.0', 'u_c_lohi.0', 'u_c_lolo.0'],\n",
       "      dtype=object)"
      ]
     },
     "execution_count": 5,
     "metadata": {},
     "output_type": "execute_result"
    }
   ],
   "source": [
    "#arquivos usados\n",
    "df['FILE_NAME'].unique()"
   ]
  },
  {
   "cell_type": "code",
   "execution_count": 6,
   "metadata": {},
   "outputs": [
    {
     "data": {
      "text/html": [
       "<div>\n",
       "<style scoped>\n",
       "    .dataframe tbody tr th:only-of-type {\n",
       "        vertical-align: middle;\n",
       "    }\n",
       "\n",
       "    .dataframe tbody tr th {\n",
       "        vertical-align: top;\n",
       "    }\n",
       "\n",
       "    .dataframe thead th {\n",
       "        text-align: right;\n",
       "    }\n",
       "</style>\n",
       "<table border=\"1\" class=\"dataframe\">\n",
       "  <thead>\n",
       "    <tr style=\"text-align: right;\">\n",
       "      <th></th>\n",
       "      <th>FILE_NAME</th>\n",
       "      <th>NUM_JOBS</th>\n",
       "      <th>NUM_MACHINES</th>\n",
       "      <th>ITERATION_SIZE</th>\n",
       "      <th>POPULATION_SIZE</th>\n",
       "      <th>ITERATION</th>\n",
       "      <th>MAKESPAN</th>\n",
       "    </tr>\n",
       "  </thead>\n",
       "  <tbody>\n",
       "    <tr>\n",
       "      <th>18155</th>\n",
       "      <td>u_c_lolo.0</td>\n",
       "      <td>512</td>\n",
       "      <td>16</td>\n",
       "      <td>500</td>\n",
       "      <td>50</td>\n",
       "      <td>465</td>\n",
       "      <td>13926.618421</td>\n",
       "    </tr>\n",
       "    <tr>\n",
       "      <th>18177</th>\n",
       "      <td>u_c_lolo.0</td>\n",
       "      <td>512</td>\n",
       "      <td>16</td>\n",
       "      <td>500</td>\n",
       "      <td>50</td>\n",
       "      <td>487</td>\n",
       "      <td>13926.618421</td>\n",
       "    </tr>\n",
       "  </tbody>\n",
       "</table>\n",
       "</div>"
      ],
      "text/plain": [
       "        FILE_NAME  NUM_JOBS  NUM_MACHINES  ITERATION_SIZE  POPULATION_SIZE  \\\n",
       "18155  u_c_lolo.0       512            16             500               50   \n",
       "18177  u_c_lolo.0       512            16             500               50   \n",
       "\n",
       "       ITERATION      MAKESPAN  \n",
       "18155        465  13926.618421  \n",
       "18177        487  13926.618421  "
      ]
     },
     "execution_count": 6,
     "metadata": {},
     "output_type": "execute_result"
    }
   ],
   "source": [
    "#menor makespan de todos\n",
    "df[df.MAKESPAN == df.MAKESPAN.min()]"
   ]
  },
  {
   "cell_type": "code",
   "execution_count": 7,
   "metadata": {
    "scrolled": true
   },
   "outputs": [
    {
     "data": {
      "text/html": [
       "<div>\n",
       "<style scoped>\n",
       "    .dataframe tbody tr th:only-of-type {\n",
       "        vertical-align: middle;\n",
       "    }\n",
       "\n",
       "    .dataframe tbody tr th {\n",
       "        vertical-align: top;\n",
       "    }\n",
       "\n",
       "    .dataframe thead th {\n",
       "        text-align: right;\n",
       "    }\n",
       "</style>\n",
       "<table border=\"1\" class=\"dataframe\">\n",
       "  <thead>\n",
       "    <tr style=\"text-align: right;\">\n",
       "      <th></th>\n",
       "      <th>FILE_NAME</th>\n",
       "      <th>NUM_JOBS</th>\n",
       "      <th>NUM_MACHINES</th>\n",
       "      <th>ITERATION_SIZE</th>\n",
       "      <th>POPULATION_SIZE</th>\n",
       "      <th>ITERATION</th>\n",
       "      <th>MAKESPAN</th>\n",
       "    </tr>\n",
       "  </thead>\n",
       "  <tbody>\n",
       "    <tr>\n",
       "      <th>11028</th>\n",
       "      <td>u_c_hihi.0</td>\n",
       "      <td>512</td>\n",
       "      <td>16</td>\n",
       "      <td>5</td>\n",
       "      <td>250</td>\n",
       "      <td>1</td>\n",
       "      <td>149066271.0</td>\n",
       "    </tr>\n",
       "    <tr>\n",
       "      <th>14712</th>\n",
       "      <td>u_c_hihi.0</td>\n",
       "      <td>512</td>\n",
       "      <td>16</td>\n",
       "      <td>5</td>\n",
       "      <td>500</td>\n",
       "      <td>1</td>\n",
       "      <td>149066271.0</td>\n",
       "    </tr>\n",
       "  </tbody>\n",
       "</table>\n",
       "</div>"
      ],
      "text/plain": [
       "        FILE_NAME  NUM_JOBS  NUM_MACHINES  ITERATION_SIZE  POPULATION_SIZE  \\\n",
       "11028  u_c_hihi.0       512            16               5              250   \n",
       "14712  u_c_hihi.0       512            16               5              500   \n",
       "\n",
       "       ITERATION     MAKESPAN  \n",
       "11028          1  149066271.0  \n",
       "14712          1  149066271.0  "
      ]
     },
     "execution_count": 7,
     "metadata": {},
     "output_type": "execute_result"
    }
   ],
   "source": [
    "#menor makespan de todos\n",
    "df[df.MAKESPAN == df.MAKESPAN.max()]"
   ]
  },
  {
   "cell_type": "code",
   "execution_count": null,
   "metadata": {},
   "outputs": [],
   "source": []
  },
  {
   "cell_type": "code",
   "execution_count": 8,
   "metadata": {},
   "outputs": [
    {
     "data": {
      "text/plain": [
       "' NUM_JOBS = 2048 || NUM_MACHINES = 64\\nprimeira geração = 1545754.10\\núltima geração   = 562674.53\\nresultado = 2.74x\\nB.u_s_hilo              |    População/iteração = 500    |\\nMCT =          47549.7  |    562674.53                   | 11.83x\\nmin-min =      33445.4  |    562674.53                   | 16.82x \\nsufferage =    41777.5  |    562674.53                   | 13.46x\\np_u_CHC_best = 28170.9  |    562674.53                   | 19.97x\\np_u_CHC_avg =  28209.7  |    562674.53                   | 19.94x\\n'"
      ]
     },
     "execution_count": 8,
     "metadata": {},
     "output_type": "execute_result"
    }
   ],
   "source": [
    "\"\"\" NUM_JOBS = 2048 || NUM_MACHINES = 64\n",
    "primeira geração = 1545754.10\n",
    "última geração   = 562674.53\n",
    "resultado = 2.74x\n",
    "B.u_s_hilo              |    População/iteração = 500    |\n",
    "MCT =          47549.7  |    562674.53                   | 11.83x\n",
    "min-min =      33445.4  |    562674.53                   | 16.82x \n",
    "sufferage =    41777.5  |    562674.53                   | 13.46x\n",
    "p_u_CHC_best = 28170.9  |    562674.53                   | 19.97x\n",
    "p_u_CHC_avg =  28209.7  |    562674.53                   | 19.94x\n",
    "\"\"\""
   ]
  },
  {
   "cell_type": "code",
   "execution_count": 9,
   "metadata": {},
   "outputs": [
    {
     "data": {
      "text/plain": [
       "' NUM_JOBS = 1024 || NUM_MACHINES = 32\\nprimeira geração = 3842.49\\núltima geração   = 691.65 \\nresultado = 5.55x\\nA.u_i_lolo           |    População/iteração = 500   |\\nMCT =          73.4  |    691.65                |  9.42x \\nmin-min =      63.7  |    691.65                | 10.85x \\nsufferage =    55.4  |    691.65                | 12.48x \\np_u_CHC_best = 50.2  |    691.65                | 13.72x \\np_u_CHC_avg =  50.4  |    691.65                | 13.77x \\n\\n'"
      ]
     },
     "execution_count": 9,
     "metadata": {},
     "output_type": "execute_result"
    }
   ],
   "source": [
    "\"\"\" NUM_JOBS = 1024 || NUM_MACHINES = 32\n",
    "primeira geração = 3842.49\n",
    "última geração   = 691.65 \n",
    "resultado = 5.55x\n",
    "A.u_i_lolo           |    População/iteração = 500   |\n",
    "MCT =          73.4  |    691.65                |  9.42x \n",
    "min-min =      63.7  |    691.65                | 10.85x \n",
    "sufferage =    55.4  |    691.65                | 12.48x \n",
    "p_u_CHC_best = 50.2  |    691.65                | 13.72x \n",
    "p_u_CHC_avg =  50.4  |    691.65                | 13.77x \n",
    "\n",
    "\"\"\""
   ]
  },
  {
   "cell_type": "code",
   "execution_count": 10,
   "metadata": {},
   "outputs": [
    {
     "data": {
      "text/plain": [
       "' NUM_JOBS = 512 || NUM_MACHINES = 16\\nu_c_hihi                |    População/iteração = 500   |\\nprimeira geração = 138024325.0\\núltima geração   = 28537839.75\\nresultado = 4.83x\\nmin-min =      860674   |    28537839.75                | 33x \\nsufferage =    10249174 |    28537839.75                | 2.78x \\npCHC_best =    7461819  |    28537839.75                | 3.82x \\npCHC_avg =     7481195  |    28537839.75                | 3.81x \\np_u_CHC_best = 7381570  |    28537839.75                | 3.86x \\np_u_CHC_avg =  7394702  |    28537839.75                | 3.85x \\n\\n'"
      ]
     },
     "execution_count": 10,
     "metadata": {},
     "output_type": "execute_result"
    }
   ],
   "source": [
    "\n",
    "\"\"\" NUM_JOBS = 512 || NUM_MACHINES = 16\n",
    "u_c_hihi                |    População/iteração = 500   |\n",
    "primeira geração = 138024325.0\n",
    "última geração   = 28537839.75\n",
    "resultado = 4.83x    \n",
    "                             1 release  -  randint - MT19937\n",
    "min-min =      860674   |    28537839.75/24844378.5/25240579.0                | 33x   |\n",
    "sufferage =    10249174 |    28537839.75/24844378.5/25240579.0                | 2.78x |\n",
    "pCHC_best =    7461819  |    28537839.75/24844378.5/25240579.0                | 3.82x |\n",
    "pCHC_avg =     7481195  |    28537839.75/24844378.5/25240579.0                | 3.81x |\n",
    "p_u_CHC_best = 7381570  |    28537839.75/24844378.5/25240579.0                | 3.86x |\n",
    "p_u_CHC_avg =  7394702  |    28537839.75/24844378.5/25240579.0                | 3.85x |\n",
    "\n",
    "primeira_release = 28537839.75\n",
    "pop_500_it_1000 =  24727492.5 (gerador)\n",
    "pop_500_it_500 =   25240579.0 (gerador)\n",
    "pop_500_it_1000 =  24461005.5 (randint)\n",
    "pop_500_it_500 =   24844378.5 (randint)\n",
    "\n",
    "\n",
    "\"\"\""
   ]
  },
  {
   "cell_type": "code",
   "execution_count": null,
   "metadata": {},
   "outputs": [],
   "source": [
    "df[]"
   ]
  }
 ],
 "metadata": {
  "kernelspec": {
   "display_name": "Python 3",
   "language": "python",
   "name": "python3"
  },
  "language_info": {
   "codemirror_mode": {
    "name": "ipython",
    "version": 3
   },
   "file_extension": ".py",
   "mimetype": "text/x-python",
   "name": "python",
   "nbconvert_exporter": "python",
   "pygments_lexer": "ipython3",
   "version": "3.8.1"
  }
 },
 "nbformat": 4,
 "nbformat_minor": 4
}
