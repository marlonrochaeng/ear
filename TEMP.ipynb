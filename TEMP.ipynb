{
 "cells": [
  {
   "cell_type": "code",
   "execution_count": 1,
   "metadata": {},
   "outputs": [],
   "source": [
    "from numpy.random import Generator, MT19937, SeedSequence"
   ]
  },
  {
   "cell_type": "code",
   "execution_count": 29,
   "metadata": {},
   "outputs": [
    {
     "data": {
      "text/plain": [
       "5"
      ]
     },
     "execution_count": 29,
     "metadata": {},
     "output_type": "execute_result"
    }
   ],
   "source": [
    "sg = SeedSequence()\n",
    "rg = [Generator(MT19937(s)) for s in sg.spawn(5)]\n",
    "len(rg)"
   ]
  },
  {
   "cell_type": "code",
   "execution_count": 30,
   "metadata": {},
   "outputs": [],
   "source": [
    "a = rg[0]"
   ]
  },
  {
   "cell_type": "code",
   "execution_count": 31,
   "metadata": {},
   "outputs": [
    {
     "data": {
      "text/plain": [
       "[945,\n",
       " 960,\n",
       " 301,\n",
       " 564,\n",
       " 182,\n",
       " 353,\n",
       " 870,\n",
       " 352,\n",
       " 926,\n",
       " 250,\n",
       " 337,\n",
       " 801,\n",
       " 21,\n",
       " 400,\n",
       " 233,\n",
       " 60,\n",
       " 402,\n",
       " 642,\n",
       " 115,\n",
       " 684,\n",
       " 734,\n",
       " 553,\n",
       " 656,\n",
       " 687,\n",
       " 787,\n",
       " 284,\n",
       " 758,\n",
       " 317,\n",
       " 195,\n",
       " 940,\n",
       " 105,\n",
       " 296,\n",
       " 939,\n",
       " 444,\n",
       " 523,\n",
       " 344,\n",
       " 134,\n",
       " 295,\n",
       " 105,\n",
       " 872,\n",
       " 796,\n",
       " 475,\n",
       " 848,\n",
       " 520,\n",
       " 780,\n",
       " 49,\n",
       " 350,\n",
       " 982,\n",
       " 484,\n",
       " 277,\n",
       " 538,\n",
       " 145,\n",
       " 428,\n",
       " 867,\n",
       " 939,\n",
       " 454,\n",
       " 864,\n",
       " 817,\n",
       " 69,\n",
       " 871,\n",
       " 71,\n",
       " 226,\n",
       " 31,\n",
       " 514,\n",
       " 256,\n",
       " 445,\n",
       " 934,\n",
       " 331,\n",
       " 277,\n",
       " 603,\n",
       " 929,\n",
       " 63,\n",
       " 781,\n",
       " 649,\n",
       " 536,\n",
       " 971,\n",
       " 255,\n",
       " 33,\n",
       " 699,\n",
       " 754,\n",
       " 479,\n",
       " 833,\n",
       " 882,\n",
       " 927,\n",
       " 621,\n",
       " 11,\n",
       " 594,\n",
       " 361,\n",
       " 959,\n",
       " 462,\n",
       " 71,\n",
       " 564,\n",
       " 900,\n",
       " 629,\n",
       " 808,\n",
       " 958,\n",
       " 773,\n",
       " 180,\n",
       " 375,\n",
       " 257]"
      ]
     },
     "execution_count": 31,
     "metadata": {},
     "output_type": "execute_result"
    }
   ],
   "source": [
    "numbers = []\n",
    "for i in range(100):\n",
    "    numbers.append(a.integers(0,1000))\n",
    "numbers"
   ]
  },
  {
   "cell_type": "code",
   "execution_count": null,
   "metadata": {},
   "outputs": [],
   "source": []
  }
 ],
 "metadata": {
  "kernelspec": {
   "display_name": "Python 3",
   "language": "python",
   "name": "python3"
  },
  "language_info": {
   "codemirror_mode": {
    "name": "ipython",
    "version": 3
   },
   "file_extension": ".py",
   "mimetype": "text/x-python",
   "name": "python",
   "nbconvert_exporter": "python",
   "pygments_lexer": "ipython3",
   "version": "3.8.1"
  }
 },
 "nbformat": 4,
 "nbformat_minor": 4
}
